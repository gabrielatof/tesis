{
 "cells": [
  {
   "cell_type": "markdown",
   "id": "15eb78f5-1b29-474c-9d9c-ac36780301b4",
   "metadata": {},
   "source": [
    "**CURSO: PYTHON FOR GENOMIC DATA SCIENCIE**"
   ]
  },
  {
   "cell_type": "markdown",
   "id": "09ca9f49-fb64-472c-8307-7231b78cad66",
   "metadata": {},
   "source": [
    "**1. Python como calculadora**"
   ]
  },
  {
   "cell_type": "code",
   "execution_count": 4,
   "id": "3fa3bc0f-2323-413e-a329-7b113ff2ab08",
   "metadata": {},
   "outputs": [
    {
     "data": {
      "text/plain": [
       "100"
      ]
     },
     "execution_count": 4,
     "metadata": {},
     "output_type": "execute_result"
    }
   ],
   "source": [
    "10**2"
   ]
  },
  {
   "cell_type": "markdown",
   "id": "02003adb-c124-4d07-af61-b0a02b8d0c09",
   "metadata": {},
   "source": [
    "** Para potencia. Es decir, 10 ** 2 es igual a 10 * 10 = 100"
   ]
  },
  {
   "cell_type": "code",
   "execution_count": 5,
   "id": "eff5aa95-3b98-451f-a753-18fb8e0ae8ca",
   "metadata": {},
   "outputs": [
    {
     "data": {
      "text/plain": [
       "5"
      ]
     },
     "execution_count": 5,
     "metadata": {},
     "output_type": "execute_result"
    }
   ],
   "source": [
    "17//3 "
   ]
  },
  {
   "cell_type": "markdown",
   "id": "3dcee752-9784-41f0-ab2d-050f9ba13c12",
   "metadata": {},
   "source": [
    "Floor division. Devuelve el entero más grande posible. Menor o igual. Redondea hacia abajo. 17/3=5.66=5."
   ]
  },
  {
   "cell_type": "markdown",
   "id": "2007b99e-a9c9-4aa5-8a50-3f5074be05b3",
   "metadata": {},
   "source": [
    "**1.1. Tipos de números**"
   ]
  },
  {
   "cell_type": "code",
   "execution_count": 6,
   "id": "b78751f0-4ef9-43f4-b2a5-a1a65f64902e",
   "metadata": {},
   "outputs": [
    {
     "data": {
      "text/plain": [
       "int"
      ]
     },
     "execution_count": 6,
     "metadata": {},
     "output_type": "execute_result"
    }
   ],
   "source": [
    "type (5) #integral"
   ]
  },
  {
   "cell_type": "code",
   "execution_count": 7,
   "id": "8e931220-9943-4bfa-9d07-da168e454f66",
   "metadata": {},
   "outputs": [
    {
     "data": {
      "text/plain": [
       "float"
      ]
     },
     "execution_count": 7,
     "metadata": {},
     "output_type": "execute_result"
    }
   ],
   "source": [
    "type (3.5) #float. Coma. Numero real con decimal"
   ]
  },
  {
   "cell_type": "code",
   "execution_count": 8,
   "id": "a3bc9a56-39be-4251-b69b-5db0ec2c9ee6",
   "metadata": {},
   "outputs": [
    {
     "data": {
      "text/plain": [
       "complex"
      ]
     },
     "execution_count": 8,
     "metadata": {},
     "output_type": "execute_result"
    }
   ],
   "source": [
    "type (3 + 2j) #Complex"
   ]
  },
  {
   "cell_type": "code",
   "execution_count": 9,
   "id": "dce45e5e-ac25-4a45-8b99-30cf75f97b52",
   "metadata": {},
   "outputs": [
    {
     "data": {
      "text/plain": [
       "str"
      ]
     },
     "execution_count": 9,
     "metadata": {},
     "output_type": "execute_result"
    }
   ],
   "source": [
    "type (\"1\") #String. Numero representado en cadena"
   ]
  },
  {
   "cell_type": "markdown",
   "id": "116e8697-1383-45e7-acfc-39dd2721a42f",
   "metadata": {},
   "source": [
    "**2. Cadena/String** "
   ]
  },
  {
   "cell_type": "markdown",
   "id": "571dd209-8cf6-4224-90af-710d3ccfd632",
   "metadata": {},
   "source": [
    "Serie de letras rodeadas de comilllas \"atg\"='atg'"
   ]
  },
  {
   "cell_type": "markdown",
   "id": "efbe4ed2-5896-4b3f-9e8c-0d530bd3ddee",
   "metadata": {},
   "source": [
    "**2.1. Operadores básicos de cadena**"
   ]
  },
  {
   "cell_type": "code",
   "execution_count": 10,
   "id": "8bbae43b-d31c-49fd-a4a8-11dad61e2f6b",
   "metadata": {},
   "outputs": [
    {
     "data": {
      "text/plain": [
       "'atgcatc'"
      ]
     },
     "execution_count": 10,
     "metadata": {},
     "output_type": "execute_result"
    }
   ],
   "source": [
    "\"atgc\" + \"atc\" #cadena concatenada "
   ]
  },
  {
   "cell_type": "code",
   "execution_count": 11,
   "id": "97642462-75d7-4855-a96a-1e81d420ab40",
   "metadata": {},
   "outputs": [
    {
     "data": {
      "text/plain": [
       "'atcatcatc'"
      ]
     },
     "execution_count": 11,
     "metadata": {},
     "output_type": "execute_result"
    }
   ],
   "source": [
    "'atc'*3 #replica la cadena"
   ]
  },
  {
   "cell_type": "code",
   "execution_count": 12,
   "id": "8d51d69c-f3a9-4994-af6d-adb14ac8bf75",
   "metadata": {},
   "outputs": [
    {
     "data": {
      "text/plain": [
       "True"
      ]
     },
     "execution_count": 12,
     "metadata": {},
     "output_type": "execute_result"
    }
   ],
   "source": [
    "'atg' in 'atgccgta' #comprobar si cierto caracter está en la cadena"
   ]
  },
  {
   "cell_type": "code",
   "execution_count": 14,
   "id": "b3bae2d7-6276-4397-aa90-11770dd14aa0",
   "metadata": {},
   "outputs": [
    {
     "data": {
      "text/plain": [
       "True"
      ]
     },
     "execution_count": 14,
     "metadata": {},
     "output_type": "execute_result"
    }
   ],
   "source": [
    "'n' not in 'atgctggc' #comprovar si cierto caracter NO está en la cadena"
   ]
  },
  {
   "cell_type": "markdown",
   "id": "14c9c823-e5fe-4272-bb99-a10eb94ddca6",
   "metadata": {},
   "source": [
    "**2.2. Variables**"
   ]
  },
  {
   "cell_type": "code",
   "execution_count": 15,
   "id": "a259903c-dc55-4307-bdd6-eaa862e19977",
   "metadata": {},
   "outputs": [],
   "source": [
    "dna = 'atgccattgcgcgatat'"
   ]
  },
  {
   "cell_type": "code",
   "execution_count": 17,
   "id": "91b9cb96-457c-4f51-8e02-a3424facaa66",
   "metadata": {},
   "outputs": [
    {
     "data": {
      "text/plain": [
       "'a'"
      ]
     },
     "execution_count": 17,
     "metadata": {},
     "output_type": "execute_result"
    }
   ],
   "source": [
    "dna [0] # te da el caracter que está en la posición. El index (posicion de la cadena). El primer caracter es 0. "
   ]
  },
  {
   "cell_type": "code",
   "execution_count": 18,
   "id": "e9480c8c-4a22-48e9-bd91-122226196869",
   "metadata": {},
   "outputs": [
    {
     "data": {
      "text/plain": [
       "'t'"
      ]
     },
     "execution_count": 18,
     "metadata": {},
     "output_type": "execute_result"
    }
   ],
   "source": [
    "dna [-1] #El primer caracter pero empezando desde la derecha, es decir, el ultimo"
   ]
  },
  {
   "cell_type": "code",
   "execution_count": 19,
   "id": "01c961be-ce93-4a0d-8414-89205b631339",
   "metadata": {},
   "outputs": [
    {
     "data": {
      "text/plain": [
       "'at'"
      ]
     },
     "execution_count": 19,
     "metadata": {},
     "output_type": "execute_result"
    }
   ],
   "source": [
    "dna [0:2] # rango de caracteres que estan en esas posiciones"
   ]
  },
  {
   "cell_type": "code",
   "execution_count": 20,
   "id": "fe5f8c27-2e73-4d18-bece-f54c27a7ed3b",
   "metadata": {},
   "outputs": [
    {
     "data": {
      "text/plain": [
       "17"
      ]
     },
     "execution_count": 20,
     "metadata": {},
     "output_type": "execute_result"
    }
   ],
   "source": [
    "len (dna) #longitud de la cadena "
   ]
  },
  {
   "cell_type": "code",
   "execution_count": 21,
   "id": "fa7a8931-8f99-406e-839c-93d4cbb99cc2",
   "metadata": {},
   "outputs": [
    {
     "data": {
      "text/plain": [
       "4"
      ]
     },
     "execution_count": 21,
     "metadata": {},
     "output_type": "execute_result"
    }
   ],
   "source": [
    "dna.count ('c') #cuenta cuantas c hay en la cadena"
   ]
  },
  {
   "cell_type": "code",
   "execution_count": 30,
   "id": "030a3f29-6d35-4bae-96fb-0b68786ae257",
   "metadata": {},
   "outputs": [
    {
     "data": {
      "text/plain": [
       "'ATGCCATTGCGCGATAT'"
      ]
     },
     "execution_count": 30,
     "metadata": {},
     "output_type": "execute_result"
    }
   ],
   "source": [
    "dna.upper() #pone la cadena en mayuscula"
   ]
  },
  {
   "cell_type": "code",
   "execution_count": 31,
   "id": "b8958b25-e27c-4920-8bfb-b2e60bde88b2",
   "metadata": {},
   "outputs": [
    {
     "data": {
      "text/plain": [
       "'atgccattgcgcgatat'"
      ]
     },
     "execution_count": 31,
     "metadata": {},
     "output_type": "execute_result"
    }
   ],
   "source": [
    "dna.lower() #minusculas"
   ]
  },
  {
   "cell_type": "code",
   "execution_count": 33,
   "id": "2c46cd93-ac0c-4125-bdf3-deecb3aeb7a8",
   "metadata": {},
   "outputs": [
    {
     "data": {
      "text/plain": [
       "True"
      ]
     },
     "execution_count": 33,
     "metadata": {},
     "output_type": "execute_result"
    }
   ],
   "source": [
    "dna.islower() #saber si la cadena está en minuscula"
   ]
  },
  {
   "cell_type": "code",
   "execution_count": 32,
   "id": "ebea84fd-6696-499b-a9eb-1f9c411ce229",
   "metadata": {},
   "outputs": [
    {
     "data": {
      "text/plain": [
       "0"
      ]
     },
     "execution_count": 32,
     "metadata": {},
     "output_type": "execute_result"
    }
   ],
   "source": [
    "dna.find('at') #nos dice en que posicion de la cadena encontramos, el que aparezca primero"
   ]
  },
  {
   "cell_type": "code",
   "execution_count": 27,
   "id": "bd89b34d-203f-4a26-bd36-c5f028182f05",
   "metadata": {},
   "outputs": [
    {
     "data": {
      "text/plain": [
       "5"
      ]
     },
     "execution_count": 27,
     "metadata": {},
     "output_type": "execute_result"
    }
   ],
   "source": [
    "dna.find('at',1) #para encontrar en que posicion aparece despues de la primera vez que lo encontro"
   ]
  },
  {
   "cell_type": "code",
   "execution_count": 28,
   "id": "6830ddd2-ad18-4739-b0ce-88643fa971aa",
   "metadata": {},
   "outputs": [
    {
     "data": {
      "text/plain": [
       "15"
      ]
     },
     "execution_count": 28,
     "metadata": {},
     "output_type": "execute_result"
    }
   ],
   "source": [
    "dna.rfind ('at') #comienza a buscar a final de la cadena"
   ]
  },
  {
   "cell_type": "code",
   "execution_count": 34,
   "id": "aba308d9-5997-4112-bb8c-c58019f6fc88",
   "metadata": {},
   "outputs": [
    {
     "data": {
      "text/plain": [
       "'AtgccAttgcgcgAtAt'"
      ]
     },
     "execution_count": 34,
     "metadata": {},
     "output_type": "execute_result"
    }
   ],
   "source": [
    "dna.replace('a','A') #remplaza cualquier caracter por el segundo argumento"
   ]
  },
  {
   "cell_type": "markdown",
   "id": "50bec5d2-460d-4573-aaa7-f03a2a913dd4",
   "metadata": {},
   "source": [
    "**3. Mi primer programa:** Porcentaje de *GC* de la secuencia de DNA"
   ]
  },
  {
   "cell_type": "code",
   "execution_count": 35,
   "id": "48265d3f-1f1d-4726-9965-586505be3858",
   "metadata": {},
   "outputs": [],
   "source": [
    "dna = 'atgccgtagcgccgatagctgatcgccggcttttttaggg'"
   ]
  },
  {
   "cell_type": "markdown",
   "id": "6a1829e0-eb16-4452-991d-f41b0f8fd06a",
   "metadata": {},
   "source": [
    "Creamos y asignamos una cadena a nuesta variable asignada llamada \"dna\""
   ]
  },
  {
   "cell_type": "code",
   "execution_count": 11,
   "id": "35862988-4be5-4220-a0f9-42ffb8ec1609",
   "metadata": {},
   "outputs": [],
   "source": [
    "no_c=dna.count('c')"
   ]
  },
  {
   "cell_type": "code",
   "execution_count": 12,
   "id": "3449dd47-1c34-4d23-89f5-d7ffa0db2b8c",
   "metadata": {},
   "outputs": [
    {
     "data": {
      "text/plain": [
       "10"
      ]
     },
     "execution_count": 12,
     "metadata": {},
     "output_type": "execute_result"
    }
   ],
   "source": [
    "no_c"
   ]
  },
  {
   "cell_type": "markdown",
   "id": "57c9d59c-a022-4915-ac88-9348f50cf5d9",
   "metadata": {},
   "source": [
    "Generamos una variable que contenga una función que nos diga cuantas 'c' existen en nuestra cadena \"dna\""
   ]
  },
  {
   "cell_type": "code",
   "execution_count": 13,
   "id": "410f7f2e-7e93-4957-9ac1-7f30a5a9e370",
   "metadata": {},
   "outputs": [
    {
     "data": {
      "text/plain": [
       "13"
      ]
     },
     "execution_count": 13,
     "metadata": {},
     "output_type": "execute_result"
    }
   ],
   "source": [
    "no_g=dna.count('g')\n",
    "no_g"
   ]
  },
  {
   "cell_type": "markdown",
   "id": "fd823a8c-a853-4ad2-b64b-72422ac8d1c8",
   "metadata": {},
   "source": [
    "De igual manera generamos una variable que contenga el número de cuantas 'g' existen en la cadena"
   ]
  },
  {
   "cell_type": "code",
   "execution_count": 14,
   "id": "914cbe1f-9db6-48d9-b535-143a91d6509d",
   "metadata": {},
   "outputs": [
    {
     "data": {
      "text/plain": [
       "40"
      ]
     },
     "execution_count": 14,
     "metadata": {},
     "output_type": "execute_result"
    }
   ],
   "source": [
    "dna_lenght=len(dna)\n",
    "dna_lenght"
   ]
  },
  {
   "cell_type": "markdown",
   "id": "48b1e7b2-9656-4f39-8e52-36efbb85118a",
   "metadata": {},
   "source": [
    "Hacemos una variable que guarde el valor de nuestra cadena inicial \"dna\""
   ]
  },
  {
   "cell_type": "code",
   "execution_count": 15,
   "id": "9bcb1cd6-274d-4681-bc76-bfc530eab2bc",
   "metadata": {},
   "outputs": [],
   "source": [
    "gc_porcentaje=(no_c+no_g)*100.0/dna_lenght"
   ]
  },
  {
   "cell_type": "code",
   "execution_count": 16,
   "id": "11b78e36-4cf9-46c4-96ee-f4a84cad6084",
   "metadata": {},
   "outputs": [
    {
     "name": "stdout",
     "output_type": "stream",
     "text": [
      "57.5\n"
     ]
    }
   ],
   "source": [
    "print (gc_porcentaje)"
   ]
  },
  {
   "cell_type": "markdown",
   "id": "b78987ca-339c-48d3-90cf-1131624e6341",
   "metadata": {},
   "source": [
    "Y ahora si podemos crear el programa que genera el porcentaje de *GC%* de la cadena de dna"
   ]
  },
  {
   "cell_type": "markdown",
   "id": "de267bff-54cd-4084-aa79-c555b62153b1",
   "metadata": {},
   "source": [
    "**3.1 Reading Input**"
   ]
  },
  {
   "cell_type": "code",
   "execution_count": 5,
   "id": "c20fe22d-3e5f-4989-aeef-3a58deec7e22",
   "metadata": {},
   "outputs": [
    {
     "name": "stdin",
     "output_type": "stream",
     "text": [
      "Enter a DNA sequence, please: atgccgtagcgccgatagctgatcgccggcttttttaggg\n"
     ]
    }
   ],
   "source": [
    "dna_c=input (\"Enter a DNA sequence, please:\")"
   ]
  },
  {
   "cell_type": "code",
   "execution_count": 7,
   "id": "f0fc6ac8-922c-48b6-9ebd-2a0e001d9a9a",
   "metadata": {},
   "outputs": [
    {
     "data": {
      "text/plain": [
       "'atgccgtagcgccgatagctgatcgccggcttttttaggg'"
      ]
     },
     "execution_count": 7,
     "metadata": {},
     "output_type": "execute_result"
    }
   ],
   "source": [
    "dna_c"
   ]
  },
  {
   "cell_type": "markdown",
   "id": "45723b73-56c6-47b0-8b11-699c1e3a88b2",
   "metadata": {},
   "source": [
    "Generamos una variable que puede ser asignada por el usuario, una vez que se corra Python le pide al usuario que escriba una cadena de dna para asignarla a la nueva variable"
   ]
  },
  {
   "cell_type": "code",
   "execution_count": 17,
   "id": "8fc39511-9d18-4842-bad6-9c195eb66890",
   "metadata": {},
   "outputs": [
    {
     "name": "stdout",
     "output_type": "stream",
     "text": [
      "The DNA sequence's GC content is 57.5 %\n"
     ]
    }
   ],
   "source": [
    "print (\"The DNA sequence's GC content is\", gc_porcentaje, \"%\")"
   ]
  },
  {
   "cell_type": "markdown",
   "id": "14171594-34a7-4be0-ab6b-d82b0fef9bfd",
   "metadata": {},
   "source": [
    "**4. Data Structures** "
   ]
  },
  {
   "cell_type": "markdown",
   "id": "e9a0cc35-5506-48b2-a0e1-8f33e2572961",
   "metadata": {},
   "source": [
    "**4.1. LISTAS**"
   ]
  },
  {
   "cell_type": "code",
   "execution_count": 49,
   "id": "50378aa7-c358-405e-9144-5ec150a6c8c2",
   "metadata": {},
   "outputs": [],
   "source": [
    "gene_expression = ['gene', 5.16e08, 0.00138511, 7.33e-08] #LISTAS. Las listas las creamos con []  "
   ]
  },
  {
   "cell_type": "code",
   "execution_count": 40,
   "id": "cdb241b6-0daa-46bc-bdaa-5cfa29ab71f4",
   "metadata": {},
   "outputs": [
    {
     "name": "stdout",
     "output_type": "stream",
     "text": [
      "0.00138511\n"
     ]
    }
   ],
   "source": [
    "print (gene_expression[2]) #que nos muestre el tercer elemento de nuestra lista"
   ]
  },
  {
   "cell_type": "code",
   "execution_count": 50,
   "id": "36bc60b8-9a6c-463f-85db-41ad4ec7d628",
   "metadata": {},
   "outputs": [],
   "source": [
    "gene_expression[0]='Lif' #que nos cambie el valor de nuestro primer elemento"
   ]
  },
  {
   "cell_type": "code",
   "execution_count": 51,
   "id": "a37a7627-b9ae-4bc8-a559-c05146b1fe4d",
   "metadata": {},
   "outputs": [
    {
     "name": "stdout",
     "output_type": "stream",
     "text": [
      "['Lif', 516000000.0, 0.00138511, 7.33e-08]\n"
     ]
    }
   ],
   "source": [
    "print (gene_expression)"
   ]
  },
  {
   "cell_type": "code",
   "execution_count": 52,
   "id": "4634aa22-00da-4f17-a1ef-69b15297da41",
   "metadata": {},
   "outputs": [],
   "source": [
    "gene_expression[1:3]=[6.09e07] #cambiar elementos de la lista"
   ]
  },
  {
   "cell_type": "code",
   "execution_count": 53,
   "id": "a1bc2d82-b726-45a9-be28-dd299413f783",
   "metadata": {},
   "outputs": [
    {
     "name": "stdout",
     "output_type": "stream",
     "text": [
      "['Lif', 60900000.0, 7.33e-08]\n"
     ]
    }
   ],
   "source": [
    "print (gene_expression)"
   ]
  },
  {
   "cell_type": "code",
   "execution_count": 54,
   "id": "30be63c1-ee1a-43e1-8a36-6eee80b0bb75",
   "metadata": {},
   "outputs": [
    {
     "data": {
      "text/plain": [
       "['Lif', 60900000.0, 7.33e-08, 51600000.0, 0.000138511]"
      ]
     },
     "execution_count": 54,
     "metadata": {},
     "output_type": "execute_result"
    }
   ],
   "source": [
    "gene_expression + [5.16e07, 0.000138511]#podemos concatenar elementos a la lista"
   ]
  },
  {
   "cell_type": "code",
   "execution_count": 56,
   "id": "563d8ba9-c3f4-4575-a570-0ad0f7bc6ac9",
   "metadata": {},
   "outputs": [
    {
     "data": {
      "text/plain": [
       "3"
      ]
     },
     "execution_count": 56,
     "metadata": {},
     "output_type": "execute_result"
    }
   ],
   "source": [
    "len (gene_expression) # medir cuantos elementos tiene la lista"
   ]
  },
  {
   "cell_type": "code",
   "execution_count": 57,
   "id": "156d7cf2-8f32-409b-bff2-679526964064",
   "metadata": {},
   "outputs": [],
   "source": [
    "del gene_expression[1] #eliminar elementos de la lista"
   ]
  },
  {
   "cell_type": "code",
   "execution_count": 58,
   "id": "fa55d905-f202-436c-bbc8-5008dc1920dd",
   "metadata": {},
   "outputs": [
    {
     "data": {
      "text/plain": [
       "['Lif', 7.33e-08]"
      ]
     },
     "execution_count": 58,
     "metadata": {},
     "output_type": "execute_result"
    }
   ],
   "source": [
    "gene_expression"
   ]
  },
  {
   "cell_type": "code",
   "execution_count": 60,
   "id": "3e2c4de0-a951-42fc-8273-3f429fd7aab3",
   "metadata": {},
   "outputs": [
    {
     "name": "stdout",
     "output_type": "stream",
     "text": [
      "1\n"
     ]
    }
   ],
   "source": [
    "print (gene_expression.count ('Lif')) #cuanta cuantas veces esta ese elemento en la lista"
   ]
  },
  {
   "cell_type": "code",
   "execution_count": 61,
   "id": "9ff93e65-0dd3-424f-84ce-c486eb8153f6",
   "metadata": {},
   "outputs": [],
   "source": [
    "mylist=[3,31,123,1,5]"
   ]
  },
  {
   "cell_type": "code",
   "execution_count": 62,
   "id": "7ef8389d-a340-490e-823e-f79b609e5513",
   "metadata": {},
   "outputs": [
    {
     "data": {
      "text/plain": [
       "[1, 3, 5, 31, 123]"
      ]
     },
     "execution_count": 62,
     "metadata": {},
     "output_type": "execute_result"
    }
   ],
   "source": [
    "sorted (mylist) #sortea, cambia la posicion de los elementos"
   ]
  },
  {
   "cell_type": "code",
   "execution_count": 63,
   "id": "f0b7d42b-fdc5-4052-ab16-b1bca2f6cdb5",
   "metadata": {},
   "outputs": [],
   "source": [
    "mylist.sort() #otra forma de hacer el sort"
   ]
  },
  {
   "cell_type": "code",
   "execution_count": 64,
   "id": "63af4265-c291-44f0-9dab-70ff831802d1",
   "metadata": {},
   "outputs": [
    {
     "data": {
      "text/plain": [
       "[1, 3, 5, 31, 123]"
      ]
     },
     "execution_count": 64,
     "metadata": {},
     "output_type": "execute_result"
    }
   ],
   "source": [
    "mylist"
   ]
  },
  {
   "cell_type": "markdown",
   "id": "06380ba9-3aca-460c-895d-f6d0f392a7a8",
   "metadata": {},
   "source": [
    "**4.2. TUPLES**"
   ]
  },
  {
   "cell_type": "markdown",
   "id": "5812ea6a-5e04-4ad8-96ff-65c729874e4c",
   "metadata": {},
   "source": [
    "Numero de valores separados por coma, al igual que las listas pero aqui los elemntos no pueden cambiar "
   ]
  },
  {
   "cell_type": "code",
   "execution_count": 65,
   "id": "37dd01f9-670d-4d28-a48b-1a74a4dc3906",
   "metadata": {},
   "outputs": [],
   "source": [
    "t = 1,2,3"
   ]
  },
  {
   "cell_type": "code",
   "execution_count": 66,
   "id": "b5fdeb46-72c4-45ab-ae8a-992761e06fb3",
   "metadata": {},
   "outputs": [
    {
     "data": {
      "text/plain": [
       "(1, 2, 3)"
      ]
     },
     "execution_count": 66,
     "metadata": {},
     "output_type": "execute_result"
    }
   ],
   "source": [
    "t"
   ]
  },
  {
   "cell_type": "markdown",
   "id": "15839077-c05a-4a52-bfa7-738124fed19c",
   "metadata": {},
   "source": [
    "**4.3. SETS**"
   ]
  },
  {
   "cell_type": "markdown",
   "id": "00c94d63-5391-4112-b387-297eb796cceb",
   "metadata": {},
   "source": [
    "Es una coleccion desordenada sin elementos duplicados. Son conjuntos de listas sin entradas duplicadas dado que estan en orden. no tienen un index"
   ]
  },
  {
   "cell_type": "code",
   "execution_count": 68,
   "id": "30f6928f-32ce-49e5-9dd7-4aebc67de33c",
   "metadata": {},
   "outputs": [],
   "source": [
    "brac1 = {'DNA repair', 'zinc ion binding', 'DNA binding', 'ubiquitin-protein transferase activity', 'DNA repair', 'protein ubiquitination'}"
   ]
  },
  {
   "cell_type": "code",
   "execution_count": 69,
   "id": "04942083-2171-4851-a86d-e77f1d9ad4c2",
   "metadata": {},
   "outputs": [
    {
     "data": {
      "text/plain": [
       "{'DNA binding',\n",
       " 'DNA repair',\n",
       " 'protein ubiquitination',\n",
       " 'ubiquitin-protein transferase activity',\n",
       " 'zinc ion binding'}"
      ]
     },
     "execution_count": 69,
     "metadata": {},
     "output_type": "execute_result"
    }
   ],
   "source": [
    "brac1"
   ]
  },
  {
   "cell_type": "markdown",
   "id": "a68b62c8-af80-4484-a53c-ae25ebea3443",
   "metadata": {},
   "source": [
    "si notamos, python elimino el elemento de DNA repair que teniamos duplicado"
   ]
  },
  {
   "cell_type": "code",
   "execution_count": 70,
   "id": "f62fdd8c-0e73-462c-a96a-59f6d5e6308c",
   "metadata": {},
   "outputs": [],
   "source": [
    "brac2 = {'protein binding', 'H4 histone acetyltransferase activity', 'nucleoplasm', 'DNA repair', 'double-strand break repair', 'double-strand break repair via homologous recombination'}"
   ]
  },
  {
   "cell_type": "code",
   "execution_count": 72,
   "id": "4cb71cb3-bd84-4f06-a913-56d27383fd42",
   "metadata": {},
   "outputs": [
    {
     "data": {
      "text/plain": [
       "{'DNA binding',\n",
       " 'DNA repair',\n",
       " 'H4 histone acetyltransferase activity',\n",
       " 'double-strand break repair',\n",
       " 'double-strand break repair via homologous recombination',\n",
       " 'nucleoplasm',\n",
       " 'protein binding',\n",
       " 'protein ubiquitination',\n",
       " 'ubiquitin-protein transferase activity',\n",
       " 'zinc ion binding'}"
      ]
     },
     "execution_count": 72,
     "metadata": {},
     "output_type": "execute_result"
    }
   ],
   "source": [
    "brac1 | brac2 # une ambos sets "
   ]
  },
  {
   "cell_type": "code",
   "execution_count": 73,
   "id": "92eeba0a-1da0-4c4b-ad20-a2b92c95a187",
   "metadata": {},
   "outputs": [
    {
     "data": {
      "text/plain": [
       "{'DNA repair'}"
      ]
     },
     "execution_count": 73,
     "metadata": {},
     "output_type": "execute_result"
    }
   ],
   "source": [
    "brac1 & brac2 # interserciona ambos sets y dice cual es el elemento que comparte"
   ]
  },
  {
   "cell_type": "code",
   "execution_count": 75,
   "id": "6956ba89-8dbc-4968-adf8-6d3f4c14c4d1",
   "metadata": {},
   "outputs": [
    {
     "data": {
      "text/plain": [
       "{'DNA binding',\n",
       " 'protein ubiquitination',\n",
       " 'ubiquitin-protein transferase activity',\n",
       " 'zinc ion binding'}"
      ]
     },
     "execution_count": 75,
     "metadata": {},
     "output_type": "execute_result"
    }
   ],
   "source": [
    "brac1 - brac2 # la diferencia de ambos sets, lo que no comparte el set 1 con el 2"
   ]
  },
  {
   "cell_type": "markdown",
   "id": "8464f11d-7745-49a9-b1c3-b8f750129434",
   "metadata": {},
   "source": [
    "**4.4 Diccionarios**"
   ]
  },
  {
   "cell_type": "markdown",
   "id": "ad11c0ac-2cb7-427a-88b3-e8dcbf2fd014",
   "metadata": {},
   "source": [
    "Es un sent no ordenado de claves y valores pares, con el requerimiento de que esas claves son unicas"
   ]
  },
  {
   "cell_type": "code",
   "execution_count": 79,
   "id": "215ad9d8-060f-495a-b6c0-dfc71ceaa569",
   "metadata": {},
   "outputs": [],
   "source": [
    "TF_motif = {'SP1' : 'ggcgg',\n",
    " 'C/EBP' : 'attgcgcaat',\n",
    " 'ATF' : 'tgacgtca'}"
   ]
  },
  {
   "cell_type": "code",
   "execution_count": 80,
   "id": "45b3faa5-fc4a-4a1f-861b-de0f56509bc4",
   "metadata": {},
   "outputs": [
    {
     "data": {
      "text/plain": [
       "{'SP1': 'ggcgg', 'C/EBP': 'attgcgcaat', 'ATF': 'tgacgtca'}"
      ]
     },
     "execution_count": 80,
     "metadata": {},
     "output_type": "execute_result"
    }
   ],
   "source": [
    "TF_motif"
   ]
  },
  {
   "cell_type": "code",
   "execution_count": 82,
   "id": "8cd0ab8c-5397-4773-a5fb-c5b19a7582b0",
   "metadata": {},
   "outputs": [
    {
     "data": {
      "text/plain": [
       "'tgacgtca'"
      ]
     },
     "execution_count": 82,
     "metadata": {},
     "output_type": "execute_result"
    }
   ],
   "source": [
    "TF_motif ['ATF'] # sacar los elementos de nuestro diccionario "
   ]
  },
  {
   "cell_type": "code",
   "execution_count": 84,
   "id": "24385960-fbba-4359-baaf-f1d4c57235d9",
   "metadata": {},
   "outputs": [],
   "source": [
    "TF_motif ['AP-1'] = 'tgagtca' # agregar una nueva clave al diccionario"
   ]
  },
  {
   "cell_type": "code",
   "execution_count": 85,
   "id": "c6338b4b-6594-4ffa-b882-892b4c1ce378",
   "metadata": {},
   "outputs": [
    {
     "data": {
      "text/plain": [
       "{'SP1': 'ggcgg', 'C/EBP': 'attgcgcaat', 'ATF': 'tgacgtca', 'AP-1': 'tgagtca'}"
      ]
     },
     "execution_count": 85,
     "metadata": {},
     "output_type": "execute_result"
    }
   ],
   "source": [
    "TF_motif"
   ]
  },
  {
   "cell_type": "code",
   "execution_count": 88,
   "id": "7c627047-348d-4218-8932-91c0fc90aba0",
   "metadata": {},
   "outputs": [],
   "source": [
    "TF_motif['AP-1']= 'tga(g/c)tca' #modificar una entrada existente"
   ]
  },
  {
   "cell_type": "code",
   "execution_count": 89,
   "id": "4a2831c2-4748-43d1-bacf-480fd8436233",
   "metadata": {},
   "outputs": [
    {
     "data": {
      "text/plain": [
       "{'SP1': 'ggcgg',\n",
       " 'C/EBP': 'attgcgcaat',\n",
       " 'ATF': 'tgacgtca',\n",
       " 'AP-1': 'tga(g/c)tca'}"
      ]
     },
     "execution_count": 89,
     "metadata": {},
     "output_type": "execute_result"
    }
   ],
   "source": [
    "TF_motif "
   ]
  },
  {
   "cell_type": "code",
   "execution_count": 90,
   "id": "23742696-d039-43ea-888a-72d8a9d479c1",
   "metadata": {},
   "outputs": [],
   "source": [
    "del TF_motif ['SP1'] #Eliminar una clave del diccionario"
   ]
  },
  {
   "cell_type": "code",
   "execution_count": 91,
   "id": "f5e88f3a-3832-416b-af1a-c0a6ba9fd284",
   "metadata": {},
   "outputs": [
    {
     "data": {
      "text/plain": [
       "{'C/EBP': 'attgcgcaat', 'ATF': 'tgacgtca', 'AP-1': 'tga(g/c)tca'}"
      ]
     },
     "execution_count": 91,
     "metadata": {},
     "output_type": "execute_result"
    }
   ],
   "source": [
    "TF_motif"
   ]
  },
  {
   "cell_type": "code",
   "execution_count": 92,
   "id": "dfc8bf22-d0c3-478f-9bfd-890dc0d003e7",
   "metadata": {},
   "outputs": [],
   "source": [
    "TF_motif.update ({'SP1':'gggcgg', 'C/EBP':'attgcgcaat', 'Oct-1':'atgcaaa'}) #agregar varias entradas a la vez. No importa que se repliquen, python las elimina "
   ]
  },
  {
   "cell_type": "code",
   "execution_count": 93,
   "id": "9aa58c76-3bdb-4a3f-86a7-1c89c6d452f8",
   "metadata": {},
   "outputs": [
    {
     "data": {
      "text/plain": [
       "{'C/EBP': 'attgcgcaat',\n",
       " 'ATF': 'tgacgtca',\n",
       " 'AP-1': 'tga(g/c)tca',\n",
       " 'SP1': 'gggcgg',\n",
       " 'Oct-1': 'atgcaaa'}"
      ]
     },
     "execution_count": 93,
     "metadata": {},
     "output_type": "execute_result"
    }
   ],
   "source": [
    "TF_motif"
   ]
  },
  {
   "cell_type": "code",
   "execution_count": 94,
   "id": "3a20ccab-33cc-48f3-beff-dc38581ea114",
   "metadata": {},
   "outputs": [
    {
     "data": {
      "text/plain": [
       "5"
      ]
     },
     "execution_count": 94,
     "metadata": {},
     "output_type": "execute_result"
    }
   ],
   "source": [
    "len (TF_motif) #tamaño del diccionario"
   ]
  },
  {
   "cell_type": "code",
   "execution_count": 95,
   "id": "944e71dd-a8b4-4fd6-b928-faccd95f35fd",
   "metadata": {},
   "outputs": [
    {
     "data": {
      "text/plain": [
       "['C/EBP', 'ATF', 'AP-1', 'SP1', 'Oct-1']"
      ]
     },
     "execution_count": 95,
     "metadata": {},
     "output_type": "execute_result"
    }
   ],
   "source": [
    "list (TF_motif.keys()) #Lista de las claves del diccionario"
   ]
  },
  {
   "cell_type": "code",
   "execution_count": 96,
   "id": "ae20925e-6ca5-4c4a-a522-44cf7343a41a",
   "metadata": {},
   "outputs": [
    {
     "data": {
      "text/plain": [
       "['attgcgcaat', 'tgacgtca', 'tga(g/c)tca', 'gggcgg', 'atgcaaa']"
      ]
     },
     "execution_count": 96,
     "metadata": {},
     "output_type": "execute_result"
    }
   ],
   "source": [
    "list (TF_motif.values()) #Lista de las valores del diccionario"
   ]
  },
  {
   "cell_type": "code",
   "execution_count": 97,
   "id": "9b187e9b-bdda-4885-b919-36446f57f9ce",
   "metadata": {},
   "outputs": [
    {
     "data": {
      "text/plain": [
       "['AP-1', 'ATF', 'C/EBP', 'Oct-1', 'SP1']"
      ]
     },
     "execution_count": 97,
     "metadata": {},
     "output_type": "execute_result"
    }
   ],
   "source": [
    "sorted (TF_motif.keys()) # que ordene el diccionario alfabeticamente"
   ]
  },
  {
   "cell_type": "markdown",
   "id": "759bee1d-f4c0-4af9-b583-c676eb7993aa",
   "metadata": {},
   "source": [
    "**5. IFS and LOOPS**: toma de decisiones y repeticiones"
   ]
  },
  {
   "cell_type": "markdown",
   "id": "06888443-5c2a-40e2-b4cd-d79b49ec369d",
   "metadata": {},
   "source": [
    "**5.1. Condicionales if** "
   ]
  },
  {
   "cell_type": "code",
   "execution_count": 2,
   "id": "e3ad28e7-f632-411d-ac04-efa146eac444",
   "metadata": {},
   "outputs": [],
   "source": [
    "dna='agcgcgggtatatatgcnccann'"
   ]
  },
  {
   "cell_type": "code",
   "execution_count": 100,
   "id": "1f68ba7a-96ab-42e8-8560-e6fb087b9835",
   "metadata": {},
   "outputs": [
    {
     "name": "stdout",
     "output_type": "stream",
     "text": [
      "dna sequence has 3 undefined bases\n"
     ]
    }
   ],
   "source": [
    "if 'n' in dna:\n",
    "    nbases=dna.count('n')\n",
    "    print ('dna sequence has %d undefined bases' % nbases) \n",
    "    #Esto quiere decir que si hay un caracter 'n' en la secuencia imprima lo especificado"
   ]
  },
  {
   "cell_type": "markdown",
   "id": "a8154b5b-49f9-4a06-9fa3-2c420384dce9",
   "metadata": {},
   "source": [
    "**5.1.1. Expresiones booleanas**"
   ]
  },
  {
   "cell_type": "markdown",
   "id": "643c5fb2-6bcb-4dc6-9536-88be9d3920d8",
   "metadata": {},
   "source": [
    "Las condiciones en *if* se le llaman expresiones booleanas, las cuales son expresiones que pueden ser *true* o *false*"
   ]
  },
  {
   "cell_type": "code",
   "execution_count": 103,
   "id": "9030f7be-36c0-40f0-97d8-150a75575d35",
   "metadata": {},
   "outputs": [
    {
     "data": {
      "text/plain": [
       "True"
      ]
     },
     "execution_count": 103,
     "metadata": {},
     "output_type": "execute_result"
    }
   ],
   "source": [
    "0<1"
   ]
  },
  {
   "cell_type": "code",
   "execution_count": 104,
   "id": "4d550e6e-5470-4ca1-ac83-d0caec053db8",
   "metadata": {},
   "outputs": [
    {
     "data": {
      "text/plain": [
       "False"
      ]
     },
     "execution_count": 104,
     "metadata": {},
     "output_type": "execute_result"
    }
   ],
   "source": [
    "len ('atgcgt')>=10"
   ]
  },
  {
   "cell_type": "markdown",
   "id": "4794bf54-6576-4b46-a0cc-c42354861486",
   "metadata": {},
   "source": [
    "|Comparison    |Operator|\n",
    "|  Equal       |  ==    |\n",
    "|Not equal     |  !=    |\n",
    "| Less than    |   <    |\n",
    "|\"\" or equal to|  <=    |\n",
    "|Greater than  |   >    |\n",
    "|\"\" or equal to|  >=    |"
   ]
  },
  {
   "cell_type": "markdown",
   "id": "b6917a36-05cc-485d-96ef-20915a910028",
   "metadata": {},
   "source": [
    "**5.1.2. Condicional if else**"
   ]
  },
  {
   "cell_type": "code",
   "execution_count": 4,
   "id": "bc0eeebe-643a-485a-ae9b-fdc94b29c731",
   "metadata": {},
   "outputs": [],
   "source": [
    "dna1 = 'atgaccatg'"
   ]
  },
  {
   "cell_type": "code",
   "execution_count": 6,
   "id": "198d1e07-73ab-45c8-82f0-0aace903ba59",
   "metadata": {},
   "outputs": [
    {
     "name": "stdout",
     "output_type": "stream",
     "text": [
      "dna sequence has no undefined bases\n"
     ]
    }
   ],
   "source": [
    "if 'n' in dna1:\n",
    "    nbases=dna1.count('n')\n",
    "    print ('dna sequence has %d undefined bases' % nbases) \n",
    "\n",
    "else:\n",
    "    print (\"dna sequence has no undefined bases\")\n",
    "# El else se genera cuando no se cumple la condicion inicial de if "
   ]
  },
  {
   "cell_type": "markdown",
   "id": "60422eb6-cdf2-46fe-9c79-65aef68857e0",
   "metadata": {},
   "source": [
    "**5.1.3. Multiple Alternative Exucutions** \n"
   ]
  },
  {
   "cell_type": "markdown",
   "id": "10f0dd68-858e-4414-be45-a03cc0c783d3",
   "metadata": {},
   "source": [
    "Cuando queremos especificar más de una condición alternativa, utilizando *elif* (condición 2) cuando *if* no se cumple (condición 1). Además se puede especificar que hacer si ninguna de las condiciones anteriores es verdadera usando *else* "
   ]
  },
  {
   "cell_type": "code",
   "execution_count": 9,
   "id": "54cabcdf-d754-458b-a644-3f44c5084250",
   "metadata": {},
   "outputs": [
    {
     "name": "stdin",
     "output_type": "stream",
     "text": [
      "Enter DNA sequence: atgcncat\n"
     ]
    },
    {
     "name": "stdout",
     "output_type": "stream",
     "text": [
      "dna sequence has undefined bases\n"
     ]
    }
   ],
   "source": [
    "dna=input ('Enter DNA sequence:')\n",
    "if 'n' in dna: \n",
    "    print (\"dna sequence has undefined bases\")\n",
    "elif 'N' in dna:\n",
    "    print (\"dna sequence has undefined bases\")\n",
    "else:\n",
    "    print (\"dna sequence has no undefined bases\")"
   ]
  },
  {
   "cell_type": "markdown",
   "id": "ff73bcfc-5641-4819-9e79-0612f85f2620",
   "metadata": {},
   "source": [
    "Si notamos este programa no cuenta las bases no definidas, entonces para añadir pasos al programa lo que tenemos que hacer es añadir operadores logicos"
   ]
  },
  {
   "cell_type": "markdown",
   "id": "7e7623b6-16b2-4abb-a46e-15c81381a9c0",
   "metadata": {},
   "source": [
    "**and**: True id both conditions are true\n",
    "\n",
    "**or**: True if at least one condition is true\n",
    "\n",
    "**not**: True if condition is false"
   ]
  },
  {
   "cell_type": "code",
   "execution_count": 10,
   "id": "399733ee-f764-4adf-b290-7ec8487cd90e",
   "metadata": {},
   "outputs": [
    {
     "name": "stdin",
     "output_type": "stream",
     "text": [
      "Enter DNA sequence: atgccatNatnc\n"
     ]
    },
    {
     "name": "stdout",
     "output_type": "stream",
     "text": [
      "dna sequence has 2 undefined bases\n"
     ]
    }
   ],
   "source": [
    "dna=input ('Enter DNA sequence:')\n",
    "if 'n' in dna or 'N' in dna:\n",
    "    nbases=dna.count('n')+dna.count('N')\n",
    "    print (\"dna sequence has %d undefined bases\" % nbases)\n",
    "else:\n",
    "    print (\"dna sequence has no undefined bases\")"
   ]
  },
  {
   "cell_type": "markdown",
   "id": "d9b8fac8-255b-4f06-a3b3-be22f69e5e44",
   "metadata": {},
   "source": [
    "**5.2. Loops**"
   ]
  },
  {
   "cell_type": "markdown",
   "id": "964f2418-48fe-4c4a-acb7-ae67d0b7fda1",
   "metadata": {},
   "source": [
    "Tienen una estructura gerneral donde prueban una condición, y si la condición es verdadera se ejecuta el loop (bucle)"
   ]
  },
  {
   "cell_type": "markdown",
   "id": "a6355e00-1c0a-4387-add4-9fbc620692f5",
   "metadata": {},
   "source": [
    "**5.2.1. While**\n",
    "\n",
    "La condición es algo que queremos probar y solo se ejecuta mientras la condición siga siendo verdadera"
   ]
  },
  {
   "cell_type": "markdown",
   "id": "551d6868-0494-4e26-9e05-e1d92a255b4e",
   "metadata": {},
   "source": [
    "*Ejemplo*: Given a DNA sequence find the positions of all canonical donor splice site candidates in the sequence."
   ]
  },
  {
   "cell_type": "code",
   "execution_count": 12,
   "id": "6b84f70d-e7d9-46ba-9140-7aa245d853e4",
   "metadata": {},
   "outputs": [
    {
     "name": "stdin",
     "output_type": "stream",
     "text": [
      "Enter DNA sequence: atgccgtagcgccgatagctgatcgccggcttttttagtgg\n"
     ]
    },
    {
     "name": "stdout",
     "output_type": "stream",
     "text": [
      "Donor splice site candidate at position 5\n",
      "Donor splice site candidate at position 37\n"
     ]
    }
   ],
   "source": [
    "dna=input('Enter DNA sequence:')\n",
    "pos=dna.find ('gt',0) #posición del sitio donor splice. siempre inician con gt\n",
    "\n",
    "while pos>-1:\n",
    "    print (\"Donor splice site candidate at position %d\"%pos)\n",
    "    pos=dna.find ('gt', pos+1)"
   ]
  },
  {
   "cell_type": "markdown",
   "id": "46738264-74e2-4505-bef6-07def301acd4",
   "metadata": {},
   "source": [
    "**5.2.2. For**\n",
    "\n",
    "Se usa cuando queremos iterar sobre los elementos en una secuencia o un conjunto de números "
   ]
  },
  {
   "cell_type": "code",
   "execution_count": 13,
   "id": "7bc1332a-2cb6-4ada-944b-1032fc08570d",
   "metadata": {},
   "outputs": [],
   "source": [
    "motifs=[\"attccgt\", \"agggggtttttcg\", \"gtagc\"]"
   ]
  },
  {
   "cell_type": "code",
   "execution_count": 14,
   "id": "ef23278c-b1c0-4f09-862c-0985a34aa169",
   "metadata": {},
   "outputs": [
    {
     "name": "stdout",
     "output_type": "stream",
     "text": [
      "attccgt 7\n",
      "agggggtttttcg 13\n",
      "gtagc 5\n"
     ]
    }
   ],
   "source": [
    "for m in motifs:\n",
    "    print (m,len(m))"
   ]
  },
  {
   "cell_type": "markdown",
   "id": "ec8dacc3-73db-4245-af95-567d401fd261",
   "metadata": {},
   "source": [
    "**Range fuction**"
   ]
  },
  {
   "cell_type": "code",
   "execution_count": 18,
   "id": "b24f1580-fa66-4b56-a9a7-908ac30497f3",
   "metadata": {},
   "outputs": [
    {
     "name": "stdout",
     "output_type": "stream",
     "text": [
      "1\n",
      "3\n",
      "5\n",
      "7\n",
      "9\n"
     ]
    }
   ],
   "source": [
    "for i in range (1,10,2): #range function returns a sequence of numbers, starting from 0 by default, and increments by 1 (by default), and stops before a specified number.\n",
    "    print (i) #Aqui le dices que quieres ir del 1 al 10 de 2 en 2"
   ]
  },
  {
   "cell_type": "markdown",
   "id": "242e4bc1-0529-4dbb-b46b-c0fa29a4a838",
   "metadata": {},
   "source": [
    "*Ejemplo*: Encontrar todos los caracteres en una secuencia de proteínas dada y veamos si son aminoácidos validos."
   ]
  },
  {
   "cell_type": "code",
   "execution_count": 19,
   "id": "303bc9bc-5033-4c24-b1b4-2bd0e8581538",
   "metadata": {},
   "outputs": [],
   "source": [
    "protein='SDVIHRYKUUPAKSHGWYVCJRSRFTWMVWWRFRSCRA'"
   ]
  },
  {
   "cell_type": "code",
   "execution_count": 21,
   "id": "32357a48-a915-4261-ae60-c69db54402ce",
   "metadata": {},
   "outputs": [
    {
     "name": "stdout",
     "output_type": "stream",
     "text": [
      "protein contains invalid amino acid U at position 8\n",
      "protein contains invalid amino acid U at position 9\n",
      "protein contains invalid amino acid J at position 20\n"
     ]
    }
   ],
   "source": [
    "for i in range (len(protein)):\n",
    "    if protein[i] not in 'ABCDEFGHIKLMNPQRSTVWXYZ':\n",
    "        print (\"protein contains invalid amino acid %s at position %d\"%(protein [i],i))"
   ]
  },
  {
   "cell_type": "markdown",
   "id": "0f0c16fc-5cb5-43f3-98cd-98b1b7068642",
   "metadata": {},
   "source": [
    "**Break fuction**"
   ]
  },
  {
   "cell_type": "markdown",
   "id": "673f7681-4292-4cea-802a-b98a7d167dec",
   "metadata": {},
   "source": [
    "*Ejemplo*: suponemos que solo estamos interesados en encontrar si la secuencia de la proteina es valida, no donde estan los caracteres no validos en la secuencia"
   ]
  },
  {
   "cell_type": "code",
   "execution_count": 26,
   "id": "d3a6fe75-e814-4862-9839-b6566a616c02",
   "metadata": {},
   "outputs": [
    {
     "name": "stdout",
     "output_type": "stream",
     "text": [
      "this is not valid protein sequence\n"
     ]
    }
   ],
   "source": [
    "for i in range (len(protein)):\n",
    "    if protein[i] not in 'ABCDEFGHIKLMNPQRSTVWXYZ':\n",
    "        print (\"this is not valid protein sequence\")\n",
    "        break #rompe el ciclo en la primera ocasión que se cumpla la condición"
   ]
  },
  {
   "cell_type": "markdown",
   "id": "8d2429a2-4d32-475a-8330-bf327a2115cc",
   "metadata": {},
   "source": [
    "**Continue Statement**"
   ]
  },
  {
   "cell_type": "markdown",
   "id": "aef3844e-eec3-42d9-97e6-94741659245e",
   "metadata": {},
   "source": [
    "*Ejemplo*: Elimina todos los aminoacidos invalidos de la secuencia proteinca"
   ]
  },
  {
   "cell_type": "code",
   "execution_count": 38,
   "id": "51dbbe8b-0ddf-4570-8f1c-c288321586a1",
   "metadata": {},
   "outputs": [
    {
     "name": "stdout",
     "output_type": "stream",
     "text": [
      "Corrected protein sequence is:SDVIHRYKPAKSHGWYVCRSRFTWMVWWRFRSCRA\n"
     ]
    }
   ],
   "source": [
    "corrected_protein=''\n",
    "for i in range (len(protein)):\n",
    "    if protein[i] not in 'ABCDEFGHIKLMNPQRSTVWXYZ':\n",
    "            continue\n",
    "    corrected_protein=corrected_protein+protein[i]\n",
    "\n",
    "print (\"Corrected protein sequence is:%s\"%corrected_protein)"
   ]
  },
  {
   "cell_type": "markdown",
   "id": "48b983a5-de05-4a1a-ae7d-240d342496d5",
   "metadata": {},
   "source": [
    "**Else with a for loop**"
   ]
  },
  {
   "cell_type": "markdown",
   "id": "6f2126a8-bc54-4253-82b7-ba05d15a12d5",
   "metadata": {},
   "source": [
    "*Ejemplo*: Encuentra todos los números primos menores que un entero dado"
   ]
  },
  {
   "cell_type": "code",
   "execution_count": 39,
   "id": "ece04e96-f4da-4719-a4f7-860aaced5e6a",
   "metadata": {},
   "outputs": [
    {
     "name": "stdout",
     "output_type": "stream",
     "text": [
      "2 is a prime number\n",
      "3 is a prime number\n",
      "4 equals 2 * 2\n",
      "5 is a prime number\n",
      "6 equals 2 * 3\n",
      "7 is a prime number\n",
      "8 equals 2 * 4\n",
      "9 equals 3 * 3\n"
     ]
    }
   ],
   "source": [
    "N=10\n",
    "for y in range (2,N):\n",
    "    for x in range (2,y):\n",
    "        if y%x==0:\n",
    "            print (y, 'equals', x, '*', y//x)\n",
    "            break\n",
    "    else:\n",
    "        print (y, 'is a prime number')"
   ]
  },
  {
   "cell_type": "markdown",
   "id": "bea5d1b8-4202-4608-bda2-0e3a15cecbd3",
   "metadata": {},
   "source": [
    "**The pass Statement**\n",
    "\n",
    "Es un marcador de posición. Algo que no hace nada. Se usa cuando hay una declaración requerida sintáticamente. Algo que tiene que ir en alguna parte pero no quieres poner el comando en ese lugar.\n",
    "\n",
    "Por ejemplo se pude utilzar en un *if* ya que se desee probar si un motivo no está en alguna secuencia de DNA, entonces solo pon *pass* y ve a la declaración y escribe tu codigo alli.\n",
    "\n",
    "Te permite dejar un codigo a \"medias\" y python lo pasa y lo puedes corregir más adelante "
   ]
  },
  {
   "cell_type": "markdown",
   "id": "cdb166fd-2735-4f1f-a029-7e5716fdd52d",
   "metadata": {},
   "source": [
    "**6. FUNCIONES**"
   ]
  },
  {
   "cell_type": "code",
   "execution_count": 15,
   "id": "26dacf5b-64a9-417e-9d77-6d3f7e80d15e",
   "metadata": {},
   "outputs": [],
   "source": [
    "def gc (dna): \n",
    "    \"Esta funcion genera el porcentaje de GC de una secuencia de DNA\"\n",
    "    nbases=dna.count('n')+dna.count('N')\n",
    "    gcpercent=float(dna.count('c')+dna.count('C')+dna.count('g')+dna.count('G'))*100.0/(len(dna)-nbases)\n",
    "    return gcpercent"
   ]
  },
  {
   "cell_type": "code",
   "execution_count": 16,
   "id": "2b4d38d9-c599-4a71-b964-6d1100b9d145",
   "metadata": {},
   "outputs": [
    {
     "data": {
      "text/plain": [
       "40.0"
      ]
     },
     "execution_count": 16,
     "metadata": {},
     "output_type": "execute_result"
    }
   ],
   "source": [
    "gc ('AAACTNNAGTCC')"
   ]
  },
  {
   "cell_type": "code",
   "execution_count": 17,
   "id": "6c075f55-a4e2-43d8-b8bc-ca567d036542",
   "metadata": {},
   "outputs": [
    {
     "name": "stdout",
     "output_type": "stream",
     "text": [
      "Help on function gc in module __main__:\n",
      "\n",
      "gc(dna)\n",
      "    Esta funcion genera el porcentaje de GC de una secuencia de DNA\n",
      "\n"
     ]
    }
   ],
   "source": [
    "help (gc)"
   ]
  },
  {
   "cell_type": "markdown",
   "id": "2d09764f-7000-4e60-a59f-2fa6d846ea41",
   "metadata": {},
   "source": [
    "**6.1. Funciones booleanas**\n",
    "\n",
    "Cuando unicamente queremos tener un resultado de falso o verdadero.\n",
    "\n",
    "*Ejemplo*: Una función que nos diga si la secuencia de dna contiene un codon de paro"
   ]
  },
  {
   "cell_type": "code",
   "execution_count": 71,
   "id": "81e1fcaf-b35d-4926-af21-8ebfbe6de814",
   "metadata": {},
   "outputs": [],
   "source": [
    "def has_stop_codon(dna): \n",
    "    \"Esta función verifica si la secuencia de dna tiene un codon de paro\"\n",
    "    stop_codon_found=False\n",
    "    stop_codons=['tga','tag','taa']\n",
    "    for i in range (0,len(dna),3): \n",
    "        codon=dna[i:i+3].lower()\n",
    "        if codon in stop_codons : \n",
    "            stop_codon_found=True\n",
    "            break\n",
    "    return stop_codon_found"
   ]
  },
  {
   "cell_type": "code",
   "execution_count": 72,
   "id": "c8c261c3-7f60-4cfd-b2e7-0f93662e9611",
   "metadata": {},
   "outputs": [],
   "source": [
    "dna='atgagcggccggct'"
   ]
  },
  {
   "cell_type": "code",
   "execution_count": 73,
   "id": "5e90c8c1-368b-4ca4-b515-ee72baeb13fe",
   "metadata": {},
   "outputs": [
    {
     "data": {
      "text/plain": [
       "False"
      ]
     },
     "execution_count": 73,
     "metadata": {},
     "output_type": "execute_result"
    }
   ],
   "source": [
    "has_stop_codon(dna)"
   ]
  },
  {
   "cell_type": "code",
   "execution_count": 74,
   "id": "3d96ff4f-d5f8-4f06-b4c8-8e98d8b9d5c8",
   "metadata": {},
   "outputs": [],
   "source": [
    "def has_stop_codon_frame(dna,frame): \n",
    "    \"Esta función checa si tiene codones de paro, donde el usuario especifica el marco de lectura\"\n",
    "    stop_codon_found=False\n",
    "    stop_codons=['tga','tag','taa']\n",
    "    for i in range (frame,len(dna),3): \n",
    "        codon=dna[i:i+3].lower()\n",
    "        if codon in stop_codons : \n",
    "            stop_codon_found=True\n",
    "            break\n",
    "    return stop_codon_found"
   ]
  },
  {
   "cell_type": "code",
   "execution_count": 76,
   "id": "f6dae97e-9177-4fdd-9760-3217528378cd",
   "metadata": {},
   "outputs": [
    {
     "data": {
      "text/plain": [
       "True"
      ]
     },
     "execution_count": 76,
     "metadata": {},
     "output_type": "execute_result"
    }
   ],
   "source": [
    "has_stop_codon_frame (dna,1)"
   ]
  },
  {
   "cell_type": "markdown",
   "id": "562f643b-f664-425e-8a6e-057e607684e7",
   "metadata": {},
   "source": [
    "*Ejemplo*: función que nos duvuelva el complemento inverso de una secuencia de dna"
   ]
  },
  {
   "cell_type": "code",
   "execution_count": 6,
   "id": "24e3fd2c-e3ff-4343-a979-0bdf2ec2fb64",
   "metadata": {},
   "outputs": [],
   "source": [
    "seq = 'AGTGTGGGGCG'"
   ]
  },
  {
   "cell_type": "code",
   "execution_count": 7,
   "id": "f126f78f-0ba3-4310-982a-99bbf533f08e",
   "metadata": {},
   "outputs": [
    {
     "data": {
      "text/plain": [
       "'GCGGGGTGTGA'"
      ]
     },
     "execution_count": 7,
     "metadata": {},
     "output_type": "execute_result"
    }
   ],
   "source": [
    "seq [::-1] #para hacer la secuencia en reversa"
   ]
  },
  {
   "cell_type": "code",
   "execution_count": 84,
   "id": "05a0fc3e-be9c-4e49-bea4-22fad15f37b9",
   "metadata": {},
   "outputs": [],
   "source": [
    "basecomplement = {'A':'T', 'C':'G', 'G':'C', 'T':'A', 'N':'N', 'a':'t', 'c':'g', 't':'a', 'g':'c', 'n':'n'}"
   ]
  },
  {
   "cell_type": "code",
   "execution_count": 2,
   "id": "288e8ec6-3bd6-4e74-b7a4-7ca6ccf73a26",
   "metadata": {},
   "outputs": [],
   "source": [
    "def complement (dna):\n",
    "    \"Return the complementary sequence\"\n",
    "    basecomplement = {'A':'T', 'C':'G', 'G':'C', 'T':'A', 'N':'N', 'a':'t', 'c':'g', 't':'a', 'g':'c', 'n':'n'}\n",
    "    letters= list (dna)\n",
    "    letters=[basecomplement [base] for base in letters]\n",
    "    return ''.join(letters)"
   ]
  },
  {
   "cell_type": "code",
   "execution_count": 3,
   "id": "86bf2307-4f9c-4e64-91e6-18f3ee5857b8",
   "metadata": {},
   "outputs": [],
   "source": [
    "dna = 'ATGC'"
   ]
  },
  {
   "cell_type": "code",
   "execution_count": 4,
   "id": "b27267d8-6df9-43a8-8a6c-38dc6fd65bcd",
   "metadata": {},
   "outputs": [
    {
     "data": {
      "text/plain": [
       "'TACG'"
      ]
     },
     "execution_count": 4,
     "metadata": {},
     "output_type": "execute_result"
    }
   ],
   "source": [
    "complement (dna)"
   ]
  },
  {
   "cell_type": "code",
   "execution_count": 17,
   "id": "d0154fc7-d3ea-411c-9de8-79784e7959fc",
   "metadata": {},
   "outputs": [],
   "source": [
    "def reversecomplement (dna):\n",
    "    \"\"\"Return the reverse complement of the dna string\"\"\"\n",
    "    reverse_string = dna [::-1]\n",
    "    basecomplement = {'A':'T', 'C':'G', 'G':'C', 'T':'A', 'N':'N', 'a':'t', 'c':'g', 't':'a', 'g':'c', 'n':'n'}\n",
    "    letters = list (reverse_string)\n",
    "    letters = [basecomplement [base] for base in letters]\n",
    "    return ''.join(letters)"
   ]
  },
  {
   "cell_type": "code",
   "execution_count": 18,
   "id": "677a184b-123f-4e17-b475-03b96f5f4730",
   "metadata": {},
   "outputs": [
    {
     "data": {
      "text/plain": [
       "'GCAT'"
      ]
     },
     "execution_count": 18,
     "metadata": {},
     "output_type": "execute_result"
    }
   ],
   "source": [
    "reversecomplement(dna)"
   ]
  },
  {
   "cell_type": "code",
   "execution_count": 19,
   "id": "a9eb3809-a9c3-4685-823f-e92ef2df407f",
   "metadata": {},
   "outputs": [],
   "source": [
    "def reversecomplement1 (dna):\n",
    "    \"\"\"Return the reverse complement of the dna string\"\"\"\n",
    "    reverse_string = dna [::-1]\n",
    "    basecomplement = {'A':'T', 'C':'G', 'G':'C', 'T':'A', 'N':'N', 'a':'t', 'c':'g', 't':'a', 'g':'c', 'n':'n'}\n",
    "    letters = list (reverse_string)\n",
    "    letters = [basecomplement [base] for base in letters]\n",
    "    return letters"
   ]
  },
  {
   "cell_type": "code",
   "execution_count": 21,
   "id": "369a5e3d-802c-47ec-b017-6d6d6e49cd55",
   "metadata": {},
   "outputs": [
    {
     "data": {
      "text/plain": [
       "['G', 'C', 'A', 'T']"
      ]
     },
     "execution_count": 21,
     "metadata": {},
     "output_type": "execute_result"
    }
   ],
   "source": [
    "reversecomplement1 (dna) # esto seria lo que ocurre si no le ponemos el .join, nos da una lista separada y no una cadena"
   ]
  },
  {
   "cell_type": "markdown",
   "id": "782b14f4-5233-48b4-95d8-a301be903962",
   "metadata": {},
   "source": [
    "**Split**\n",
    "\n",
    "Es un mètodo que devuelve una lista de todas las palabras en una cadena."
   ]
  },
  {
   "cell_type": "code",
   "execution_count": 22,
   "id": "e5525f5e-39c3-46fe-b071-60e44a4d9c60",
   "metadata": {},
   "outputs": [],
   "source": [
    "sentence=\"enzymes and other proteins come in many shapes\""
   ]
  },
  {
   "cell_type": "code",
   "execution_count": 23,
   "id": "328436f1-cf82-4c08-a179-8c411494f1a4",
   "metadata": {},
   "outputs": [
    {
     "data": {
      "text/plain": [
       "['enzymes', 'and', 'other', 'proteins', 'come', 'in', 'many', 'shapes']"
      ]
     },
     "execution_count": 23,
     "metadata": {},
     "output_type": "execute_result"
    }
   ],
   "source": [
    "sentence.split()"
   ]
  },
  {
   "cell_type": "code",
   "execution_count": 24,
   "id": "776a1779-8a1f-489f-b69d-05e24db4169b",
   "metadata": {},
   "outputs": [
    {
     "data": {
      "text/plain": [
       "['enzymes ', ' other proteins come in many shapes']"
      ]
     },
     "execution_count": 24,
     "metadata": {},
     "output_type": "execute_result"
    }
   ],
   "source": [
    "sentence.split ('and') #podemos especificar el separador"
   ]
  },
  {
   "cell_type": "markdown",
   "id": "36747851-ca52-4671-b597-e9d4445ebe85",
   "metadata": {},
   "source": [
    "**Join**\n",
    "\n",
    "Es un metodo que devuelve una cadena en la que sus elementos se unieron de una lista. Tienes que darle elementos por separado para unirlos entre ellos en tu cadena."
   ]
  },
  {
   "cell_type": "markdown",
   "id": "5cdd86e8-7449-41d0-9e27-30a7ca4242a4",
   "metadata": {},
   "source": [
    "En este siguiente *ejemplo* le damos la función de un unión usando un guión como conector"
   ]
  },
  {
   "cell_type": "code",
   "execution_count": 25,
   "id": "a489204b-cde9-45cf-8c48-4917076557b3",
   "metadata": {},
   "outputs": [
    {
     "data": {
      "text/plain": [
       "'enzymes-and-other-proteins-come-in-many-shapes'"
      ]
     },
     "execution_count": 25,
     "metadata": {},
     "output_type": "execute_result"
    }
   ],
   "source": [
    "'-'.join(['enzymes', 'and', 'other', 'proteins', 'come', 'in', 'many', 'shapes'])"
   ]
  },
  {
   "cell_type": "markdown",
   "id": "4aab72d0-413b-4982-9617-6463a8f8c634",
   "metadata": {},
   "source": [
    "**Modulos**\n",
    "\n",
    "Su función es unir las funciones en un archivo. Estos son archivos de Phython con la extensión .py, que va a contener las definiciones de funciones o variables relacionadps con un tema.\n",
    "\n",
    "Agrupa codigo relacionado en un modulo."
   ]
  },
  {
   "cell_type": "code",
   "execution_count": null,
   "id": "7c7e642e-5e00-4177-b266-0f66083cb1bd",
   "metadata": {},
   "outputs": [],
   "source": [
    "import porcentajegc"
   ]
  },
  {
   "cell_type": "code",
   "execution_count": null,
   "id": "dc4b6e3f-f454-460e-8cb4-ac7eab5b7dc8",
   "metadata": {},
   "outputs": [],
   "source": []
  },
  {
   "cell_type": "code",
   "execution_count": null,
   "id": "d4b9de58-682d-42d2-bcd3-97ea5ea06103",
   "metadata": {},
   "outputs": [],
   "source": []
  },
  {
   "cell_type": "code",
   "execution_count": null,
   "id": "9c0f9670-366f-429e-b5a6-40d2b48c0897",
   "metadata": {},
   "outputs": [],
   "source": []
  },
  {
   "cell_type": "code",
   "execution_count": null,
   "id": "0e373ffd-d233-4a25-8067-dac8b2e23b96",
   "metadata": {},
   "outputs": [],
   "source": []
  },
  {
   "cell_type": "code",
   "execution_count": null,
   "id": "94e063e5-cde2-4a83-a43e-066eb57380da",
   "metadata": {},
   "outputs": [],
   "source": []
  },
  {
   "cell_type": "code",
   "execution_count": null,
   "id": "207bdf15-3c3a-44d7-b3df-5e3889c7c89f",
   "metadata": {},
   "outputs": [],
   "source": []
  },
  {
   "cell_type": "code",
   "execution_count": null,
   "id": "ac18c5de-e48d-4d5c-b993-f47274aecdff",
   "metadata": {},
   "outputs": [],
   "source": []
  }
 ],
 "metadata": {
  "kernelspec": {
   "display_name": "Python 3 (ipykernel)",
   "language": "python",
   "name": "python3"
  },
  "language_info": {
   "codemirror_mode": {
    "name": "ipython",
    "version": 3
   },
   "file_extension": ".py",
   "mimetype": "text/x-python",
   "name": "python",
   "nbconvert_exporter": "python",
   "pygments_lexer": "ipython3",
   "version": "3.9.7"
  }
 },
 "nbformat": 4,
 "nbformat_minor": 5
}
